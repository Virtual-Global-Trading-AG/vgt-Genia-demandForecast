{
 "cells": [
  {
   "cell_type": "code",
   "execution_count": 1,
   "metadata": {},
   "outputs": [],
   "source": [
    "import pandas as pd\n",
    "from datetime import datetime, timedelta\n",
    "from io import StringIO\n",
    "import requests\n",
    "import unittest\n",
    "import os\n",
    "import shutil\n",
    "import pytz"
   ]
  },
  {
   "cell_type": "markdown",
   "metadata": {},
   "source": [
    "### clean folder structure"
   ]
  },
  {
   "cell_type": "code",
   "execution_count": 2,
   "metadata": {},
   "outputs": [],
   "source": [
    "if os.path.exists(\"db\"):\n",
    "    shutil.rmtree(\"db\")"
   ]
  },
  {
   "cell_type": "markdown",
   "metadata": {},
   "source": [
    "### start demandForecastManager"
   ]
  },
  {
   "cell_type": "code",
   "execution_count": 3,
   "metadata": {},
   "outputs": [
    {
     "name": "stdout",
     "output_type": "stream",
     "text": [
      "\u001b[1A\u001b[1B\u001b[0G\u001b[?25l[+] Running 0/0\n",
      " \u001b[33m⠋\u001b[0m Container demandforecastmanager-dfm-1  Stopping                         \u001b[34m0.1s \u001b[0m\n",
      "\u001b[?25h\u001b[1A\u001b[1A\u001b[0G\u001b[?25l[+] Running 0/1\n",
      " \u001b[33m⠙\u001b[0m Container demandforecastmanager-dfm-1  Stopping                         \u001b[34m0.2s \u001b[0m\n",
      "\u001b[?25h\u001b[1A\u001b[1A\u001b[0G\u001b[?25l[+] Running 0/1\n",
      " \u001b[33m⠹\u001b[0m Container demandforecastmanager-dfm-1  Stopping                         \u001b[34m0.3s \u001b[0m\n",
      "\u001b[?25h\u001b[1A\u001b[1A\u001b[0G\u001b[?25l[+] Running 0/1\n",
      " \u001b[33m⠸\u001b[0m Container demandforecastmanager-dfm-1  Stopping                         \u001b[34m0.4s \u001b[0m\n",
      "\u001b[?25h\u001b[1A\u001b[1A\u001b[0G\u001b[?25l[+] Running 2/1\n",
      " \u001b[32m✔\u001b[0m Container demandforecastmanager-dfm-1  \u001b[32mRemoved\u001b[0m                          \u001b[34m0.4s \u001b[0m\n",
      " \u001b[32m✔\u001b[0m Network demandforecastmanager_default  \u001b[32mRemoved\u001b[0m                          \u001b[34m0.1s \u001b[0m\n",
      "\u001b[?25hERROR: open /Users/ronnyschneeberger/.docker/buildx/activity/desktop-linux: permission denied\n",
      "\u001b[1A\u001b[1B\u001b[0G\u001b[?25l[+] Running 1/0\n",
      " \u001b[32m✔\u001b[0m Network demandforecastmanager_default  \u001b[32mCreated\u001b[0m                          \u001b[34m0.0s \u001b[0m\n",
      " \u001b[33m⠋\u001b[0m Container demandforecastmanager-dfm-1  Starting                         \u001b[34m0.1s \u001b[0m\n",
      "\u001b[?25h\u001b[1A\u001b[1A\u001b[1A\u001b[0G\u001b[?25l[+] Running 1/2\n",
      " \u001b[32m✔\u001b[0m Network demandforecastmanager_default  \u001b[32mCreated\u001b[0m                          \u001b[34m0.0s \u001b[0m\n",
      " \u001b[33m⠙\u001b[0m Container demandforecastmanager-dfm-1  Starting                         \u001b[34m0.2s \u001b[0m\n",
      "\u001b[?25h\u001b[1A\u001b[1A\u001b[1A\u001b[0G\u001b[?25l\u001b[34m[+] Running 2/2\u001b[0m\n",
      " \u001b[32m✔\u001b[0m Network demandforecastmanager_default  \u001b[32mCreated\u001b[0m                          \u001b[34m0.0s \u001b[0m\n",
      " \u001b[32m✔\u001b[0m Container demandforecastmanager-dfm-1  \u001b[32mStarted\u001b[0m                          \u001b[34m0.2s \u001b[0m\n",
      "\u001b[?25h"
     ]
    }
   ],
   "source": [
    "!docker-compose down\n",
    "!docker build -t demandforecastmanager .\n",
    "!docker-compose up -d"
   ]
  },
  {
   "cell_type": "markdown",
   "metadata": {},
   "source": [
    "### run unit tests"
   ]
  },
  {
   "cell_type": "code",
   "execution_count": 4,
   "metadata": {},
   "outputs": [],
   "source": [
    "base_url = \"http://0.0.0.0:5011/\"\n",
    "class testDemandForecastManager(unittest.TestCase):\n",
    "    base_url = base_url\n",
    "    def test_0_index(self):\n",
    "        response = requests.get(url=self.base_url)\n",
    "        self.assertEqual(response.status_code, 200)\n",
    "        self.assertEqual(response.text, '{\"message\":\"Index of demandForecastManager.\"}\\n')\n",
    "\n",
    "    def test_1_get_health(self):\n",
    "        response = requests.get(url=self.base_url + \"getHealth\")\n",
    "        self.assertEqual(response.status_code, 200)\n",
    "\n",
    "    def test_3_get_ids(self):\n",
    "        response = requests.get(url=self.base_url + \"getIds\")\n",
    "        self.assertEqual(response.status_code, 200)\n",
    "        self.assertEqual(response.text, '{\"buildingIds\":[]}\\n')\n",
    "\n",
    "    def test_4_add_ids(self):\n",
    "        headers = {\n",
    "            \"buildingIdentifier\": \"Building_Test\",\n",
    "            \"smartmeterIdentifiers\": 'Smartmeter_3,Smartmeter_4'\n",
    "        }\n",
    "        response = requests.post(url=self.base_url + \"addId\", headers=headers)\n",
    "        self.assertEqual(response.status_code, 200)\n",
    "        self.assertEqual(response.text, '{\"message\":\"Created Database entry for Building_Test\"}\\n')\n",
    "    \n",
    "    def test_5_get_ids(self):\n",
    "        # check smartmeter ids\n",
    "        response = requests.get(url=self.base_url + \"getIds\")\n",
    "        self.assertEqual(response.status_code, 200)\n",
    "        self.assertEqual(response.text, '{\"buildingIds\":[\"Building_Test\"]}\\n')\n",
    "        response = requests.get(url=self.base_url + \"getSmartmeterIds\", headers={'buildingIdentifier':'Building_Test'})\n",
    "        self.assertEqual(response.status_code, 200)\n",
    "        self.assertEqual(response.text, '{\"smartmeterIdentifiers\":[\"Smartmeter_3\",\"Smartmeter_4\"]}\\n')\n",
    "\n",
    "    def test_6_update_ids(self):\n",
    "        headers = {\n",
    "            'buildingIdentifier': 'Building_Test',\n",
    "            'smartmeterIdentifiers': 'Smartmeter_4,Smartmeter_5,Smartmeter_6'\n",
    "        }\n",
    "        response = requests.put(url=self.base_url + \"updateId\", headers=headers)\n",
    "        self.assertEqual(response.status_code, 200)\n",
    "        self.assertEqual(response.text, '{\"message\":\"Updated Smartmeter Ids for Building_Test\"}\\n')\n",
    "\n",
    "    def test_7_get_ids(self):\n",
    "        # TODO CHECK SMARTMETER IDS\n",
    "        response = requests.get(url=self.base_url + \"getIds\")\n",
    "        self.assertEqual(response.status_code, 200)\n",
    "        self.assertEqual(response.text, '{\"buildingIds\":[\"Building_Test\"]}\\n')\n",
    "        response = requests.get(url=self.base_url + \"getSmartmeterIds\", headers={'buildingIdentifier':'Building_Test'})\n",
    "        self.assertEqual(response.status_code, 200)\n",
    "        self.assertEqual(response.text, '{\"smartmeterIdentifiers\":[\"Smartmeter_3\",\"Smartmeter_4\",\"Smartmeter_5\",\"Smartmeter_6\"]}\\n')\n",
    "\n",
    "    def test_8_delete_smartmeter_ids(self):\n",
    "        headers = {\n",
    "            'buildingIdentifier': \"Building_Test\",\n",
    "            'smartmeterIdentifiers': 'Smartmeter_3,Smartmeter_4'\n",
    "        }\n",
    "        \n",
    "        response = requests.delete(url=self.base_url + \"deleteSmartmeterId\", headers=headers)\n",
    "        self.assertEqual(response.status_code, 200)\n",
    "        self.assertEqual(response.text, '{\"message\":\"Smartmeter Identifiers successfully removed from database.\"}\\n')\n",
    "\n",
    "    def test_91_get_ids(self):\n",
    "        response = requests.get(url=self.base_url + \"getSmartmeterIds\", headers={'buildingIdentifier':'Building_Test'})\n",
    "        self.assertEqual(response.status_code, 200)\n",
    "        self.assertEqual(response.text, '{\"smartmeterIdentifiers\":[\"Smartmeter_5\",\"Smartmeter_6\"]}\\n')\n",
    "\n",
    "    def test_99_delete_building_id(self):\n",
    "        headers = {\n",
    "            'buildingIdentifier': 'Building_Test'\n",
    "        }\n",
    "        response = requests.delete(url=self.base_url + \"deleteBuildingId\", headers=headers)\n",
    "        self.assertEqual(response.status_code, 200)\n",
    "        self.assertEqual(response.text, '{\"message\":\"Building identifier successfully removed from database.\"}\\n')"
   ]
  },
  {
   "cell_type": "code",
   "execution_count": 5,
   "metadata": {},
   "outputs": [
    {
     "name": "stderr",
     "output_type": "stream",
     "text": [
      "..........\n",
      "----------------------------------------------------------------------\n",
      "Ran 10 tests in 0.508s\n",
      "\n",
      "OK\n"
     ]
    }
   ],
   "source": [
    "if __name__ == '__main__':\n",
    "    unittest.main(argv=['first-arg-is-ignored'], exit=False)"
   ]
  },
  {
   "cell_type": "markdown",
   "metadata": {},
   "source": [
    "### add data to database"
   ]
  },
  {
   "cell_type": "code",
   "execution_count": 6,
   "metadata": {},
   "outputs": [],
   "source": [
    "# load data\n",
    "data = pd.read_feather(\"../data/ckw open data/0400ed9084770f70cb4447cac53e9c12.feather\")\n",
    "building_id = \"Building_0400ed9084770f70cb4447cac53e9c12\"\n",
    "smart_meter_id = data.columns[1].split(\"_delta\")[0]\n",
    "\n",
    "# add building id\n",
    "headers = {\n",
    "    'buildingIdentifier': building_id,\n",
    "    'smartmeterIdentifiers': smart_meter_id\n",
    "}\n",
    "response = requests.post(base_url + \"addId\", headers=headers)\n",
    "assert response.status_code == 200"
   ]
  },
  {
   "cell_type": "code",
   "execution_count": 7,
   "metadata": {},
   "outputs": [
    {
     "data": {
      "text/plain": [
       "'{\"message\":\"Created Database entry for Building_0400ed9084770f70cb4447cac53e9c12\"}\\n'"
      ]
     },
     "execution_count": 7,
     "metadata": {},
     "output_type": "execute_result"
    }
   ],
   "source": [
    "response.text"
   ]
  },
  {
   "cell_type": "code",
   "execution_count": 8,
   "metadata": {},
   "outputs": [
    {
     "name": "stdout",
     "output_type": "stream",
     "text": [
      "{\"message\":\"Wrote measurements to database\"}\n",
      "\n"
     ]
    }
   ],
   "source": [
    "# upload data for building\n",
    "response = requests.post(base_url + \"postMeasurements\", headers=headers, json=data.to_json(orient=\"split\"))\n",
    "print(response.text)"
   ]
  },
  {
   "cell_type": "code",
   "execution_count": 9,
   "metadata": {},
   "outputs": [
    {
     "data": {
      "text/plain": [
       "200"
      ]
     },
     "execution_count": 9,
     "metadata": {},
     "output_type": "execute_result"
    }
   ],
   "source": [
    "# retrieve data\n",
    "start = datetime.fromisoformat(data.timestamp[0])\n",
    "start = datetime.isoformat(start)\n",
    "end = datetime.fromisoformat(data.timestamp.iloc[-1])\n",
    "end = datetime.isoformat(end)\n",
    "\n",
    "headers = {\n",
    "    'buildingIdentifier': building_id,\n",
    "    'start': start,\n",
    "    'end': end\n",
    "}\n",
    "\n",
    "response = requests.get(base_url + \"getMeasurements\", headers=headers)\n",
    "response.status_code"
   ]
  },
  {
   "cell_type": "code",
   "execution_count": 10,
   "metadata": {},
   "outputs": [
    {
     "name": "stdout",
     "output_type": "stream",
     "text": [
      "               timestamp  Smartmeter_3_delta_energy\n",
      "0    2024-04-30 22:00:00                      0.289\n",
      "1    2024-04-30 22:15:00                      0.123\n",
      "2    2024-04-30 22:30:00                      0.203\n",
      "3    2024-04-30 22:45:00                      0.193\n",
      "4    2024-04-30 23:00:00                      0.136\n",
      "...                  ...                        ...\n",
      "2971 2024-05-31 20:45:00                      0.056\n",
      "2972 2024-05-31 21:00:00                      0.044\n",
      "2973 2024-05-31 21:15:00                      0.023\n",
      "2974 2024-05-31 21:30:00                      0.020\n",
      "2975 2024-05-31 21:45:00                      0.030\n",
      "\n",
      "[2976 rows x 2 columns]\n"
     ]
    }
   ],
   "source": [
    "print(pd.read_json(StringIO(response.json()['data']), orient='split'))"
   ]
  },
  {
   "cell_type": "markdown",
   "metadata": {},
   "source": [
    "### update data"
   ]
  },
  {
   "cell_type": "code",
   "execution_count": 11,
   "metadata": {},
   "outputs": [
    {
     "data": {
      "text/plain": [
       "'{\"message\":\"Wrote measurements to database\"}\\n'"
      ]
     },
     "execution_count": 11,
     "metadata": {},
     "output_type": "execute_result"
    }
   ],
   "source": [
    "data.iloc[0, 1] = 0.21\n",
    "data.iloc[2, 1] = 0.21\n",
    "headers = {\n",
    "    'buildingIdentifier': building_id,\n",
    "    'smartmeterIdentifiers': smart_meter_id\n",
    "}\n",
    "response = requests.post(base_url + \"postMeasurements\", headers=headers, json=data.to_json(orient=\"split\"))\n",
    "response.text"
   ]
  },
  {
   "cell_type": "code",
   "execution_count": 12,
   "metadata": {},
   "outputs": [],
   "source": [
    "# retrieve data\n",
    "start = datetime.fromisoformat(data.timestamp[0])\n",
    "start = datetime.isoformat(start)\n",
    "end = datetime.fromisoformat(data.timestamp.iloc[-1])\n",
    "end = datetime.isoformat(end)\n",
    "\n",
    "headers = {\n",
    "    'buildingIdentifier': building_id,\n",
    "    'start': start,\n",
    "    'end': end\n",
    "}\n",
    "\n",
    "response = requests.get(base_url + \"getMeasurements\", headers=headers)"
   ]
  },
  {
   "cell_type": "code",
   "execution_count": 13,
   "metadata": {},
   "outputs": [
    {
     "data": {
      "text/html": [
       "<div>\n",
       "<style scoped>\n",
       "    .dataframe tbody tr th:only-of-type {\n",
       "        vertical-align: middle;\n",
       "    }\n",
       "\n",
       "    .dataframe tbody tr th {\n",
       "        vertical-align: top;\n",
       "    }\n",
       "\n",
       "    .dataframe thead th {\n",
       "        text-align: right;\n",
       "    }\n",
       "</style>\n",
       "<table border=\"1\" class=\"dataframe\">\n",
       "  <thead>\n",
       "    <tr style=\"text-align: right;\">\n",
       "      <th></th>\n",
       "      <th>timestamp</th>\n",
       "      <th>Smartmeter_3_delta_energy</th>\n",
       "    </tr>\n",
       "  </thead>\n",
       "  <tbody>\n",
       "    <tr>\n",
       "      <th>0</th>\n",
       "      <td>2024-04-30 22:00:00</td>\n",
       "      <td>0.210</td>\n",
       "    </tr>\n",
       "    <tr>\n",
       "      <th>1</th>\n",
       "      <td>2024-04-30 22:15:00</td>\n",
       "      <td>0.123</td>\n",
       "    </tr>\n",
       "    <tr>\n",
       "      <th>2</th>\n",
       "      <td>2024-04-30 22:30:00</td>\n",
       "      <td>0.210</td>\n",
       "    </tr>\n",
       "    <tr>\n",
       "      <th>3</th>\n",
       "      <td>2024-04-30 22:45:00</td>\n",
       "      <td>0.193</td>\n",
       "    </tr>\n",
       "    <tr>\n",
       "      <th>4</th>\n",
       "      <td>2024-04-30 23:00:00</td>\n",
       "      <td>0.136</td>\n",
       "    </tr>\n",
       "    <tr>\n",
       "      <th>...</th>\n",
       "      <td>...</td>\n",
       "      <td>...</td>\n",
       "    </tr>\n",
       "    <tr>\n",
       "      <th>2971</th>\n",
       "      <td>2024-05-31 20:45:00</td>\n",
       "      <td>0.056</td>\n",
       "    </tr>\n",
       "    <tr>\n",
       "      <th>2972</th>\n",
       "      <td>2024-05-31 21:00:00</td>\n",
       "      <td>0.044</td>\n",
       "    </tr>\n",
       "    <tr>\n",
       "      <th>2973</th>\n",
       "      <td>2024-05-31 21:15:00</td>\n",
       "      <td>0.023</td>\n",
       "    </tr>\n",
       "    <tr>\n",
       "      <th>2974</th>\n",
       "      <td>2024-05-31 21:30:00</td>\n",
       "      <td>0.020</td>\n",
       "    </tr>\n",
       "    <tr>\n",
       "      <th>2975</th>\n",
       "      <td>2024-05-31 21:45:00</td>\n",
       "      <td>0.030</td>\n",
       "    </tr>\n",
       "  </tbody>\n",
       "</table>\n",
       "<p>2976 rows × 2 columns</p>\n",
       "</div>"
      ],
      "text/plain": [
       "               timestamp  Smartmeter_3_delta_energy\n",
       "0    2024-04-30 22:00:00                      0.210\n",
       "1    2024-04-30 22:15:00                      0.123\n",
       "2    2024-04-30 22:30:00                      0.210\n",
       "3    2024-04-30 22:45:00                      0.193\n",
       "4    2024-04-30 23:00:00                      0.136\n",
       "...                  ...                        ...\n",
       "2971 2024-05-31 20:45:00                      0.056\n",
       "2972 2024-05-31 21:00:00                      0.044\n",
       "2973 2024-05-31 21:15:00                      0.023\n",
       "2974 2024-05-31 21:30:00                      0.020\n",
       "2975 2024-05-31 21:45:00                      0.030\n",
       "\n",
       "[2976 rows x 2 columns]"
      ]
     },
     "execution_count": 13,
     "metadata": {},
     "output_type": "execute_result"
    }
   ],
   "source": [
    "pd.read_json(StringIO(response.json()['data']), orient='split')"
   ]
  },
  {
   "cell_type": "markdown",
   "metadata": {},
   "source": [
    "### add new values"
   ]
  },
  {
   "cell_type": "code",
   "execution_count": 14,
   "metadata": {},
   "outputs": [
    {
     "data": {
      "text/plain": [
       "'{\"message\":\"Wrote measurements to database\"}\\n'"
      ]
     },
     "execution_count": 14,
     "metadata": {},
     "output_type": "execute_result"
    }
   ],
   "source": [
    "# creating new data\n",
    "start = datetime.fromisoformat(data.timestamp.iloc[-1]) + timedelta(minutes=15)\n",
    "end = start + timedelta(hours=24)\n",
    "timestamps = pd.date_range(start=start, end=end, freq=\"15min\", tz=pytz.utc).values\n",
    "timestamps = [pd.Timestamp(timestamp, tz=pytz.utc).to_pydatetime().isoformat() for timestamp in timestamps]\n",
    "values = data['Smartmeter_3_delta_energy'].values[:len(timestamps)]\n",
    "\n",
    "new_data = pd.DataFrame({\n",
    "    'timestamp': timestamps,\n",
    "    'Smartmeter_3_delta_energy': values\n",
    "})\n",
    "\n",
    "headers = {\n",
    "    'buildingIdentifier': building_id,\n",
    "    'smartmeterIdentifiers': smart_meter_id\n",
    "} \n",
    "\n",
    "response = requests.post(base_url + \"postMeasurements\", headers=headers, json=new_data.to_json(orient=\"split\"))\n",
    "response.text"
   ]
  },
  {
   "cell_type": "code",
   "execution_count": 15,
   "metadata": {},
   "outputs": [],
   "source": [
    "# retrieve data\n",
    "start = datetime.fromisoformat(data.timestamp.iloc[0])\n",
    "start = datetime.isoformat(start)\n",
    "end = datetime.fromisoformat(data.timestamp.iloc[-1])\n",
    "end = datetime.isoformat(end)\n",
    "\n",
    "headers = {\n",
    "    'buildingIdentifier': building_id,\n",
    "    'start': start,\n",
    "    'end': end\n",
    "}\n",
    "\n",
    "response = requests.get(base_url + \"getMeasurements\", headers=headers)\n",
    "dump = pd.read_json(StringIO(response.json()['data']), orient='split')"
   ]
  },
  {
   "cell_type": "code",
   "execution_count": 16,
   "metadata": {},
   "outputs": [],
   "source": [
    "test = pd.read_feather(\"db/data/Building_0400ed9084770f70cb4447cac53e9c12.feather\")"
   ]
  },
  {
   "cell_type": "code",
   "execution_count": 17,
   "metadata": {},
   "outputs": [
    {
     "data": {
      "text/html": [
       "<div>\n",
       "<style scoped>\n",
       "    .dataframe tbody tr th:only-of-type {\n",
       "        vertical-align: middle;\n",
       "    }\n",
       "\n",
       "    .dataframe tbody tr th {\n",
       "        vertical-align: top;\n",
       "    }\n",
       "\n",
       "    .dataframe thead th {\n",
       "        text-align: right;\n",
       "    }\n",
       "</style>\n",
       "<table border=\"1\" class=\"dataframe\">\n",
       "  <thead>\n",
       "    <tr style=\"text-align: right;\">\n",
       "      <th></th>\n",
       "      <th>timestamp</th>\n",
       "      <th>Smartmeter_3_delta_energy</th>\n",
       "    </tr>\n",
       "  </thead>\n",
       "  <tbody>\n",
       "    <tr>\n",
       "      <th>0</th>\n",
       "      <td>2024-04-30 22:00:00+00:00</td>\n",
       "      <td>0.210</td>\n",
       "    </tr>\n",
       "    <tr>\n",
       "      <th>1</th>\n",
       "      <td>2024-04-30 22:15:00+00:00</td>\n",
       "      <td>0.123</td>\n",
       "    </tr>\n",
       "    <tr>\n",
       "      <th>2</th>\n",
       "      <td>2024-04-30 22:30:00+00:00</td>\n",
       "      <td>0.210</td>\n",
       "    </tr>\n",
       "    <tr>\n",
       "      <th>3</th>\n",
       "      <td>2024-04-30 22:45:00+00:00</td>\n",
       "      <td>0.193</td>\n",
       "    </tr>\n",
       "    <tr>\n",
       "      <th>4</th>\n",
       "      <td>2024-04-30 23:00:00+00:00</td>\n",
       "      <td>0.136</td>\n",
       "    </tr>\n",
       "    <tr>\n",
       "      <th>...</th>\n",
       "      <td>...</td>\n",
       "      <td>...</td>\n",
       "    </tr>\n",
       "    <tr>\n",
       "      <th>3068</th>\n",
       "      <td>2024-06-01 21:00:00+00:00</td>\n",
       "      <td>0.025</td>\n",
       "    </tr>\n",
       "    <tr>\n",
       "      <th>3069</th>\n",
       "      <td>2024-06-01 21:15:00+00:00</td>\n",
       "      <td>0.043</td>\n",
       "    </tr>\n",
       "    <tr>\n",
       "      <th>3070</th>\n",
       "      <td>2024-06-01 21:30:00+00:00</td>\n",
       "      <td>0.020</td>\n",
       "    </tr>\n",
       "    <tr>\n",
       "      <th>3071</th>\n",
       "      <td>2024-06-01 21:45:00+00:00</td>\n",
       "      <td>0.026</td>\n",
       "    </tr>\n",
       "    <tr>\n",
       "      <th>3072</th>\n",
       "      <td>2024-06-01 22:00:00+00:00</td>\n",
       "      <td>0.018</td>\n",
       "    </tr>\n",
       "  </tbody>\n",
       "</table>\n",
       "<p>3073 rows × 2 columns</p>\n",
       "</div>"
      ],
      "text/plain": [
       "                     timestamp  Smartmeter_3_delta_energy\n",
       "0    2024-04-30 22:00:00+00:00                      0.210\n",
       "1    2024-04-30 22:15:00+00:00                      0.123\n",
       "2    2024-04-30 22:30:00+00:00                      0.210\n",
       "3    2024-04-30 22:45:00+00:00                      0.193\n",
       "4    2024-04-30 23:00:00+00:00                      0.136\n",
       "...                        ...                        ...\n",
       "3068 2024-06-01 21:00:00+00:00                      0.025\n",
       "3069 2024-06-01 21:15:00+00:00                      0.043\n",
       "3070 2024-06-01 21:30:00+00:00                      0.020\n",
       "3071 2024-06-01 21:45:00+00:00                      0.026\n",
       "3072 2024-06-01 22:00:00+00:00                      0.018\n",
       "\n",
       "[3073 rows x 2 columns]"
      ]
     },
     "execution_count": 17,
     "metadata": {},
     "output_type": "execute_result"
    }
   ],
   "source": [
    "test.sort_values(by='timestamp', ascending=True)"
   ]
  },
  {
   "cell_type": "markdown",
   "metadata": {},
   "source": [
    "### test min and max"
   ]
  },
  {
   "cell_type": "code",
   "execution_count": 26,
   "metadata": {},
   "outputs": [
    {
     "data": {
      "text/plain": [
       "(timestamp                    2024-04-30T22:00:00.000Z\n",
       " Smartmeter_3_delta_energy                       0.006\n",
       " dtype: object,\n",
       " timestamp                    2024-05-31T21:45:00.000Z\n",
       " Smartmeter_3_delta_energy                       1.502\n",
       " dtype: object)"
      ]
     },
     "execution_count": 26,
     "metadata": {},
     "output_type": "execute_result"
    }
   ],
   "source": [
    "data = pd.read_feather(\"../data/ckw open data/0400ed9084770f70cb4447cac53e9c12.feather\")\n",
    "data.min(), data.max()"
   ]
  },
  {
   "cell_type": "code",
   "execution_count": 24,
   "metadata": {},
   "outputs": [
    {
     "data": {
      "text/plain": [
       "'{\"max\":{\"Smartmeter_3\":1.5019999742507935},\"min\":{\"Smartmeter_3\":0.006000000052154064}}\\n'"
      ]
     },
     "execution_count": 24,
     "metadata": {},
     "output_type": "execute_result"
    }
   ],
   "source": [
    "response = requests.get(base_url + \"getMinMax\", headers={'buildingIdentifier': 'Building_0400ed9084770f70cb4447cac53e9c12'})\n",
    "assert 200 == response.status_code\n",
    "response.text"
   ]
  }
 ],
 "metadata": {
  "kernelspec": {
   "display_name": "venv",
   "language": "python",
   "name": "python3"
  },
  "language_info": {
   "codemirror_mode": {
    "name": "ipython",
    "version": 3
   },
   "file_extension": ".py",
   "mimetype": "text/x-python",
   "name": "python",
   "nbconvert_exporter": "python",
   "pygments_lexer": "ipython3",
   "version": "3.11.4"
  }
 },
 "nbformat": 4,
 "nbformat_minor": 2
}
