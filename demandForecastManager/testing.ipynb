{
 "cells": [
  {
   "cell_type": "code",
   "execution_count": 1,
   "metadata": {},
   "outputs": [],
   "source": [
    "import pandas as pd\n",
    "import requests\n",
    "import unittest\n",
    "import os\n",
    "import shutil"
   ]
  },
  {
   "cell_type": "markdown",
   "metadata": {},
   "source": [
    "### clean folder structure"
   ]
  },
  {
   "cell_type": "code",
   "execution_count": 2,
   "metadata": {},
   "outputs": [],
   "source": [
    "if os.path.exists(\"db\"):\n",
    "    shutil.rmtree(\"db\")"
   ]
  },
  {
   "cell_type": "markdown",
   "metadata": {},
   "source": [
    "### start demandForecastManager"
   ]
  },
  {
   "cell_type": "code",
   "execution_count": 3,
   "metadata": {},
   "outputs": [
    {
     "name": "stdout",
     "output_type": "stream",
     "text": [
      "\u001b[1A\u001b[1B\u001b[0G\u001b[?25l[+] Running 0/0\n",
      " \u001b[33m⠋\u001b[0m Container demandforecastmanager-dfm-1  Stopping                         \u001b[34m0.1s \u001b[0m\n",
      "\u001b[?25h\u001b[1A\u001b[1A\u001b[0G\u001b[?25l[+] Running 0/1\n",
      " \u001b[33m⠙\u001b[0m Container demandforecastmanager-dfm-1  Stopping                         \u001b[34m0.2s \u001b[0m\n",
      "\u001b[?25h\u001b[1A\u001b[1A\u001b[0G\u001b[?25l[+] Running 2/1\n",
      " \u001b[32m✔\u001b[0m Container demandforecastmanager-dfm-1  \u001b[32mRemoved\u001b[0m                          \u001b[34m0.2s \u001b[0m\n",
      " \u001b[32m✔\u001b[0m Network demandforecastmanager_default  \u001b[32mRemoved\u001b[0m                          \u001b[34m0.0s \u001b[0m\n",
      "\u001b[?25h\u001b[1A\u001b[1B\u001b[0G\u001b[?25l[+] Building 0.0s (0/1)                                    docker:desktop-linux\n",
      "\u001b[?25h\u001b[1A\u001b[0G\u001b[?25l[+] Building 0.0s (11/11) FINISHED                         docker:desktop-linux\n",
      "\u001b[34m => [internal] load build definition from Dockerfile                       0.0s\n",
      "\u001b[0m\u001b[34m => => transferring dockerfile: 321B                                       0.0s\n",
      "\u001b[0m\u001b[34m => [internal] load metadata for docker.io/library/python:3.11             0.0s\n",
      "\u001b[0m\u001b[34m => [internal] load .dockerignore                                          0.0s\n",
      "\u001b[0m\u001b[34m => => transferring context: 2B                                            0.0s\n",
      "\u001b[0m\u001b[34m => [1/6] FROM docker.io/library/python:3.11                               0.0s\n",
      "\u001b[0m\u001b[34m => [internal] load build context                                          0.0s\n",
      "\u001b[0m\u001b[34m => => transferring context: 109B                                          0.0s\n",
      "\u001b[0m\u001b[34m => CACHED [2/6] WORKDIR /app                                              0.0s\n",
      "\u001b[0m\u001b[34m => CACHED [3/6] COPY demandForecastManager.py /app/demandForecastManager  0.0s\n",
      "\u001b[0m\u001b[34m => CACHED [4/6] COPY main.py /app/main.py                                 0.0s\n",
      "\u001b[0m\u001b[34m => CACHED [5/6] COPY requirements.txt /app/requirements.txt               0.0s\n",
      "\u001b[0m\u001b[34m => CACHED [6/6] RUN pip install --no-cache-dir -r requirements.txt        0.0s\n",
      "\u001b[0m\u001b[34m => exporting to image                                                     0.0s\n",
      "\u001b[0m\u001b[34m => => exporting layers                                                    0.0s\n",
      "\u001b[0m\u001b[34m => => writing image sha256:5d515763d97986c365cdf9ed5a2b1e92ce9b3ac66119f  0.0s\n",
      "\u001b[0m\u001b[34m => => naming to docker.io/library/demandforecastmanager                   0.0s\n",
      "\u001b[0m\u001b[?25h\n",
      "View build details: \u001b]8;;docker-desktop://dashboard/build/desktop-linux/desktop-linux/xg4z74c8ugdnteks6iwpxb4yy\u001b\\docker-desktop://dashboard/build/desktop-linux/desktop-linux/xg4z74c8ugdnteks6iwpxb4yy\u001b]8;;\u001b\\\n",
      "\u001b[1m\n",
      "What's next:\u001b[0m\n",
      "    View a summary of image vulnerabilities and recommendations → \u001b[36mdocker scout quickview \u001b[0m\n",
      "\u001b[1A\u001b[1B\u001b[0G\u001b[?25l[+] Running 1/0\n",
      " \u001b[32m✔\u001b[0m Network demandforecastmanager_default  \u001b[32mCreated\u001b[0m                          \u001b[34m0.0s \u001b[0m\n",
      " \u001b[33m⠋\u001b[0m Container demandforecastmanager-dfm-1  Starting                         \u001b[34m0.1s \u001b[0m\n",
      "\u001b[?25h\u001b[1A\u001b[1A\u001b[1A\u001b[0G\u001b[?25l\u001b[34m[+] Running 2/2\u001b[0m\n",
      " \u001b[32m✔\u001b[0m Network demandforecastmanager_default  \u001b[32mCreated\u001b[0m                          \u001b[34m0.0s \u001b[0m\n",
      " \u001b[32m✔\u001b[0m Container demandforecastmanager-dfm-1  \u001b[32mStarted\u001b[0m                          \u001b[34m0.1s \u001b[0m\n",
      "\u001b[?25h"
     ]
    }
   ],
   "source": [
    "!docker-compose down\n",
    "!docker build -t demandforecastmanager .\n",
    "!docker-compose up -d"
   ]
  },
  {
   "cell_type": "markdown",
   "metadata": {},
   "source": [
    "### run unit tests"
   ]
  },
  {
   "cell_type": "code",
   "execution_count": 4,
   "metadata": {},
   "outputs": [],
   "source": [
    "class testDemandForecastManager(unittest.TestCase):\n",
    "    base_url = \"http://0.0.0.0:5011/\"\n",
    "    def test_0_index(self):\n",
    "        response = requests.get(url=self.base_url)\n",
    "        self.assertEqual(response.status_code, 200)\n",
    "        self.assertEqual(response.text, '{\"message\":\"Index of demandForecastManager.\"}\\n')\n",
    "\n",
    "    def test_1_get_health(self):\n",
    "        response = requests.get(url=self.base_url + \"getHealth\")\n",
    "        self.assertEqual(response.status_code, 200)\n",
    "\n",
    "    def test_3_get_ids(self):\n",
    "        response = requests.get(url=self.base_url + \"getIds\")\n",
    "        self.assertEqual(response.status_code, 200)\n",
    "        self.assertEqual(response.text, '{\"buildingIds\":{}}\\n')\n",
    "\n",
    "    def test_4_add_ids(self):\n",
    "        headers = {\n",
    "            \"buildingIdentifier\": \"Building_Test\",\n",
    "            \"smartmeterIdentifiers\": 'Smartmeter_3,Smartmeter_4'\n",
    "        }\n",
    "        response = requests.post(url=self.base_url + \"addId\", headers=headers)\n",
    "        self.assertEqual(response.status_code, 200)\n",
    "        self.assertEqual(response.text, '{\"message\":\"Created Database entry for Building_Test\"}\\n')\n",
    "    \n",
    "    def test_5_get_ids(self):\n",
    "        response = requests.get(url=self.base_url + \"getIds\")\n",
    "        self.assertEqual(response.status_code, 200)\n",
    "        self.assertEqual(response.text, '{\"buildingIds\":{\"Building_Test\":[\"Smartmeter_3\",\"Smartmeter_4\"]}}\\n')\n",
    "\n",
    "    def test_6_update_ids(self):\n",
    "        headers = {\n",
    "            'buildingIdentifier': 'Building_Test',\n",
    "            'smartmeterIdentifiers': 'Smartmeter_4,Smartmeter_5,Smartmeter_6'\n",
    "        }\n",
    "        response = requests.put(url=self.base_url + \"updateId\", headers=headers)\n",
    "        self.assertEqual(response.status_code, 200)\n",
    "        self.assertEqual(response.text, '{\"message\":\"Updated Smartmeter Ids for Building_Test\"}\\n')\n",
    "\n",
    "    def test_7_get_ids(self):\n",
    "        response = requests.get(url=self.base_url + \"getIds\")\n",
    "        self.assertEqual(response.status_code, 200)\n",
    "        self.assertEqual(response.text, '{\"buildingIds\":{\"Building_Test\":[\"Smartmeter_3\",\"Smartmeter_4\",\"Smartmeter_5\",\"Smartmeter_6\"]}}\\n')\n",
    "\n",
    "    def test_8_delete_smartmeter_ids(self):\n",
    "        headers = {\n",
    "            'buildingIdentifier': \"Building_Test\",\n",
    "            'smartmeterIdentifiers': 'Smartmeter_3,Smartmeter_4'\n",
    "        }\n",
    "        \n",
    "        response = requests.delete(url=self.base_url + \"deleteSmartmeterId\", headers=headers)\n",
    "        self.assertEqual(response.status_code, 200)\n",
    "        self.assertEqual(response.text, '{\"message\":\"Smartmeter Identifiers successfully removed from database.\"}\\n')\n",
    "\n",
    "    def test_91_get_ids(self):\n",
    "        response = requests.get(url=self.base_url + \"getIds\")\n",
    "        self.assertEqual(response.status_code, 200)\n",
    "        self.assertEqual(response.text, '{\"buildingIds\":{\"Building_Test\":[\"Smartmeter_5\",\"Smartmeter_6\"]}}\\n')\n",
    "\n",
    "    def test_99_delete_building_id(self):\n",
    "        headers = {\n",
    "            'buildingIdentifier': 'Building_Test'\n",
    "        }\n",
    "        response = requests.delete(url=self.base_url + \"deleteBuildingId\", headers=headers)\n",
    "        self.assertEqual(response.status_code, 200)\n",
    "        self.assertEqual(response.text, '{\"message\":\"Building identifier successfully removed from database.\"}\\n')"
   ]
  },
  {
   "cell_type": "code",
   "execution_count": 5,
   "metadata": {},
   "outputs": [
    {
     "name": "stderr",
     "output_type": "stream",
     "text": [
      "..........\n",
      "----------------------------------------------------------------------\n",
      "Ran 10 tests in 0.315s\n",
      "\n",
      "OK\n"
     ]
    }
   ],
   "source": [
    "if __name__ == '__main__':\n",
    "    unittest.main(argv=['first-arg-is-ignored'], exit=False)"
   ]
  },
  {
   "cell_type": "markdown",
   "metadata": {},
   "source": [
    "### add data to database"
   ]
  },
  {
   "cell_type": "code",
   "execution_count": null,
   "metadata": {},
   "outputs": [],
   "source": [
    "## add new builidng id\n",
    "\n",
    "## add new smartmeter id\n",
    "\n",
    "## upload data for building\n",
    "\n",
    "## retrieve data for building"
   ]
  }
 ],
 "metadata": {
  "kernelspec": {
   "display_name": "venv",
   "language": "python",
   "name": "python3"
  },
  "language_info": {
   "codemirror_mode": {
    "name": "ipython",
    "version": 3
   },
   "file_extension": ".py",
   "mimetype": "text/x-python",
   "name": "python",
   "nbconvert_exporter": "python",
   "pygments_lexer": "ipython3",
   "version": "3.11.4"
  }
 },
 "nbformat": 4,
 "nbformat_minor": 2
}
